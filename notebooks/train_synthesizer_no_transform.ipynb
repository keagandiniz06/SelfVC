{
 "cells": [
  {
   "cell_type": "markdown",
   "metadata": {},
   "source": [
    "# Imports"
   ]
  },
  {
   "cell_type": "code",
   "execution_count": 1,
   "metadata": {},
   "outputs": [
    {
     "name": "stderr",
     "output_type": "stream",
     "text": [
      "[NeMo W 2024-10-18 12:43:54 nemo_logging:349] /home/keagan/anaconda3/envs/vc/lib/python3.10/site-packages/megatron/core/tensor_parallel/layers.py:254: FutureWarning: `torch.cuda.amp.custom_fwd(args...)` is deprecated. Please use `torch.amp.custom_fwd(args..., device_type='cuda')` instead.\n",
      "      def forward(\n",
      "    \n",
      "[NeMo W 2024-10-18 12:43:54 nemo_logging:349] /home/keagan/anaconda3/envs/vc/lib/python3.10/site-packages/megatron/core/tensor_parallel/layers.py:265: FutureWarning: `torch.cuda.amp.custom_bwd(args...)` is deprecated. Please use `torch.amp.custom_bwd(args..., device_type='cuda')` instead.\n",
      "      def backward(ctx, grad_output):\n",
      "    \n",
      "[NeMo W 2024-10-18 12:43:54 nemo_logging:349] /home/keagan/anaconda3/envs/vc/lib/python3.10/site-packages/megatron/core/tensor_parallel/layers.py:325: FutureWarning: `torch.cuda.amp.custom_fwd(args...)` is deprecated. Please use `torch.amp.custom_fwd(args..., device_type='cuda')` instead.\n",
      "      def forward(\n",
      "    \n",
      "[NeMo W 2024-10-18 12:43:54 nemo_logging:349] /home/keagan/anaconda3/envs/vc/lib/python3.10/site-packages/megatron/core/tensor_parallel/layers.py:360: FutureWarning: `torch.cuda.amp.custom_bwd(args...)` is deprecated. Please use `torch.amp.custom_bwd(args..., device_type='cuda')` instead.\n",
      "      def backward(ctx, grad_output):\n",
      "    \n"
     ]
    }
   ],
   "source": [
    "import librosa\n",
    "import numpy as np\n",
    "import torch\n",
    "import torch.nn.functional as F\n",
    "import torchaudio\n",
    "import torchaudio.transforms as T\n",
    "import torch.nn as nn\n",
    "import nemo.collections.asr as nemo_asr\n",
    "import json\n",
    "from torch.utils.data import Dataset,DataLoader"
   ]
  },
  {
   "cell_type": "markdown",
   "metadata": {},
   "source": [
    "# Utils"
   ]
  },
  {
   "cell_type": "markdown",
   "metadata": {},
   "source": [
    "## Content Embeddings"
   ]
  },
  {
   "cell_type": "code",
   "execution_count": 2,
   "metadata": {},
   "outputs": [],
   "source": [
    "def extract_content_embeddings(mel_spectrogram_tensor, encoder,device):\n",
    "    mel_tensor = mel_spectrogram_tensor.to(device)\n",
    "    lengths = torch.full((mel_tensor.shape[0],), mel_tensor.shape[2], dtype=torch.int32).to(device)\n",
    "\n",
    "    # # Ensure the input tensor has the correct shape\n",
    "    # if len(mel_tensor.shape) == 2:\n",
    "    #     # Adding batch dimension (1, mel_channels, time_frames)\n",
    "    #     mel_tensor = mel_tensor.unsqueeze(0)\n",
    "\n",
    "    encoder.eval()\n",
    "    with torch.no_grad():\n",
    "        # content_embeddings = encoder(mel_tensor)\n",
    "        content_embeddings, _ = encoder(\n",
    "            audio_signal=mel_tensor,\n",
    "            length=lengths\n",
    "        )        \n",
    "\n",
    "    return content_embeddings "
   ]
  },
  {
   "cell_type": "markdown",
   "metadata": {},
   "source": [
    "## Duration Augmented Content Embeddings "
   ]
  },
  {
   "cell_type": "code",
   "execution_count": 3,
   "metadata": {},
   "outputs": [],
   "source": [
    "def cosine_similarity(v1, v2):\n",
    "    return F.cosine_similarity(v1.unsqueeze(0), v2.unsqueeze(0), dim=-1).item()\n",
    "\n",
    "def group_similar_vectors(vectors, threshold, vector_duration):\n",
    "    grouped_vectors = []\n",
    "    durations = []\n",
    "\n",
    "    current_group = [vectors[:, 0]]  # Start with the first vector (slice across batch dimension)\n",
    "    current_duration = vector_duration\n",
    "\n",
    "    for i in range(1, vectors.shape[-1]):\n",
    "        sim = cosine_similarity(vectors[:, i], vectors[:, i - 1])\n",
    "        # print(sim)\n",
    "        # If cosine similarity is above threshold, group the vectors\n",
    "        if sim > threshold:\n",
    "            # print(\"Exceeded Threshold\")\n",
    "            current_group.append(vectors[:, i])\n",
    "            current_duration += vector_duration\n",
    "        else:\n",
    "            # Compute the average of the current group and save it\n",
    "            averaged_vector = torch.mean(torch.stack(current_group, dim=-1), dim=-1)\n",
    "            grouped_vectors.append(averaged_vector)\n",
    "            durations.append(current_duration)\n",
    "\n",
    "            # Start a new group\n",
    "            current_group = [vectors[:, i]]\n",
    "            current_duration = vector_duration\n",
    "\n",
    "    # Append the last group\n",
    "    if current_group:\n",
    "        averaged_vector = torch.mean(torch.stack(current_group, dim=-1), dim=-1)\n",
    "        grouped_vectors.append(averaged_vector)\n",
    "        durations.append(current_duration)\n",
    "\n",
    "    return torch.stack(grouped_vectors, dim=-1), durations\n",
    "\n",
    "\n",
    "def duration_augmented_representation(content_embeddings, T=0.925, vector_duration=46.44):\n",
    "    # Remove the batch dimension for processing\n",
    "    content_vectors = content_embeddings.squeeze(0)  # Shape: [256, num_content_vectors]\n",
    "\n",
    "    grouped_vectors, new_durations = group_similar_vectors(content_vectors, T, vector_duration)\n",
    "\n",
    "    # Convert durations to seconds if needed\n",
    "    new_durations_in_seconds = [d / 1000 for d in new_durations]\n",
    "\n",
    "    # Add the batch dimension back to the output\n",
    "    grouped_vectors = grouped_vectors.unsqueeze(0)  # Shape: [1, 256, num_grouped_vectors]\n",
    "\n",
    "    return grouped_vectors, new_durations_in_seconds"
   ]
  },
  {
   "cell_type": "markdown",
   "metadata": {},
   "source": [
    "## Pitch Contour Feature Extraction"
   ]
  },
  {
   "cell_type": "code",
   "execution_count": 69,
   "metadata": {},
   "outputs": [],
   "source": [
    "def extract_f0(audio_path, sr=22050):\n",
    "    \"\"\"\n",
    "    Extract the fundamental frequency (F0) contour using PYin algorithm.\n",
    "    \n",
    "    Args:\n",
    "    - audio_path (str): Path to the audio file.\n",
    "    - sr (int): Sampling rate. Default is 22050.\n",
    "    \n",
    "    Returns:\n",
    "    - f0_tensor (torch.Tensor): Extracted F0 contour as a PyTorch tensor.\n",
    "    - pitch_tensor (torch.Tensor): Extracted pitch contour as a PyTorch tensor.\n",
    "    \"\"\"\n",
    "    # Load the audio file\n",
    "    y, sr = librosa.load(audio_path, sr=sr)\n",
    "\n",
    "    # Compute the F0 (fundamental frequency) using PYin\n",
    "    f0_contour, voiced_flag, voiced_probs = librosa.pyin(\n",
    "        y, \n",
    "        fmin=librosa.note_to_hz('C2'),  # Minimum pitch (in Hz)\n",
    "        fmax=librosa.note_to_hz('C7')   # Maximum pitch (in Hz)\n",
    "    )\n",
    "    \n",
    "    # Replace unvoiced frames (None) with zeros or some placeholder\n",
    "    f0_contour = np.nan_to_num(f0_contour)\n",
    "    print(\"reahced here\")\n",
    "    # Convert to PyTorch tensor\n",
    "    f0_tensor = torch.tensor(f0_contour, dtype=torch.float32)\n",
    "    print(\"reahced here 1\")\n",
    "    # Optionally, if you want to extract a pitch contour (e.g., using voiced probabilities)\n",
    "    # pitch_tensor = torch.tensor(voiced_probs, dtype=torch.float32)  # Using voiced probabilities as pitch contour\n",
    "\n",
    "    return f0_tensor\n",
    "\n",
    "\n",
    "# Function to normalize the F0 contour\n",
    "def normalize_f0(f0_contour):\n",
    "\n",
    "    # Filter out unvoiced (NaN or 0 values)\n",
    "    # voiced_f0 = f0_contour[f0_contour > 0]  # Exclude unvoiced frames\n",
    "    \n",
    "    # Compute mean and standard deviation only for voiced frames\n",
    "    mean_f0 = np.mean(f0_contour)\n",
    "    std_f0 = np.std(f0_contour)\n",
    "    \n",
    "    # Normalize F0 contour (keep NaNs for unvoiced frames)\n",
    "    normalized_f0 = (f0_contour - mean_f0) / std_f0\n",
    "\n",
    "    # Optionally: Clip or apply ReLU to remove negative values (if required)\n",
    "    # normalized_f0 = np.clip(normalized_f0, 0, None)\n",
    "    \n",
    "    return normalized_f0\n"
   ]
  },
  {
   "cell_type": "markdown",
   "metadata": {},
   "source": [
    "## Speaker Embedding "
   ]
  },
  {
   "cell_type": "code",
   "execution_count": null,
   "metadata": {},
   "outputs": [],
   "source": [
    "speaker_model = nemo_asr.models.EncDecSpeakerLabelModel.from_pretrained(model_name='titanet_large')"
   ]
  },
  {
   "cell_type": "markdown",
   "metadata": {},
   "source": [
    "# Dataset"
   ]
  },
  {
   "cell_type": "code",
   "execution_count": 5,
   "metadata": {},
   "outputs": [],
   "source": [
    "class SynthesizerNoTransformDataset(Dataset):\n",
    "    def __init__(self, data,content_encoder,speaker_encoder, device):\n",
    "        # Load the JSON file\n",
    "        # with open(json_file, 'r') as f:\n",
    "        self.data = data\n",
    "        self.content_encoder = content_encoder\n",
    "        self.speaker_encoder = speaker_encoder\n",
    "        self.device = device            \n",
    "    \n",
    "    def __len__(self):\n",
    "        # Return the number of entries in the dataset\n",
    "        return len(self.data)\n",
    "    \n",
    "    def extract_content_embeddings(self, mel_spectrogram_tensor):\n",
    "        mel_tensor = mel_spectrogram_tensor.unsqueeze(0).to(self.device)  # Add batch dimension\n",
    "        lengths = torch.full((mel_tensor.shape[0],), mel_tensor.shape[2], dtype=torch.int32).to(self.device)\n",
    "\n",
    "        self.content_encoder.eval()\n",
    "        with torch.no_grad():\n",
    "            content_embeddings, _ = self.content_encoder(\n",
    "                audio_signal=mel_tensor,\n",
    "                length=lengths\n",
    "            )\n",
    "\n",
    "        return content_embeddings.cpu()   \n",
    "    \n",
    "    def extract_speaker_embeddings(self, audio_path):\n",
    "        self.speaker_encoder.eval()\n",
    "        with torch.no_grad():\n",
    "            speaker_embedding = self.speaker_encoder.get_embedding(audio_path).cpu()\n",
    "        return speaker_embedding      \n",
    "    \n",
    "    def __getitem__(self, idx):\n",
    "        mel_path = self.data[idx]['mel_filepath']\n",
    "        audio_path = self.data[idx]['audio_filepath']\n",
    "        # print(audio_path)\n",
    "        mel_spectrogram = torch.from_numpy(np.load(mel_path))\n",
    "        content_embeddings = self.extract_content_embeddings(mel_spectrogram) \n",
    "        speaker_embeddings = self.extract_speaker_embeddings(audio_path)  \n",
    "        # duration_augmented_content_embeddings, durations = self.duration_augmented_representation(content_embeddings)\n",
    "        # print(duration_augmented_content_embeddings.shape)\n",
    "        # print(\"Reached herte amin\")\n",
    "        # normalized_pitch_contour =self.normalize_f0(audio_path)\n",
    "        # print(normalized_pitch_contour.shape)\n",
    "        \n",
    "        return content_embeddings,speaker_embeddings,audio_path\n",
    "    # ,duration_augmented_content_embeddings\n",
    "    # ,normalized_pitch_contour"
   ]
  },
  {
   "cell_type": "code",
   "execution_count": 6,
   "metadata": {},
   "outputs": [],
   "source": [
    "def collate_fn(batch):\n",
    "    \"\"\"\n",
    "    Pads the content embeddings, speaker embeddings, and duration-augmented content embeddings in the batch to the same length.\n",
    "    \n",
    "    Args:\n",
    "    - batch (list of tuples): Each tuple contains content_embeddings, speaker_embeddings, duration_augmented_content_embeddings.\n",
    "    \n",
    "    Returns:\n",
    "    - padded_content_embeddings (torch.Tensor): Padded content embeddings.\n",
    "    - speaker_batch (torch.Tensor): Speaker embeddings.\n",
    "    - padded_duration_augmented_embeddings (torch.Tensor): Padded duration-augmented content embeddings.\n",
    "    \"\"\"\n",
    "    # Unzip the batch into separate components\n",
    "    content_embeddings, speaker_embeddings = zip(*batch)\n",
    "    \n",
    "    # Find the maximum length in the batch for padding\n",
    "    max_len_content = max([embedding.size(-1) for embedding in content_embeddings])\n",
    "    # max_len_duration = max([embedding.size(-1) for embedding in duration_augmented_content_embeddings])\n",
    "    \n",
    "    # Pad the content embeddings to the maximum length\n",
    "    padded_content_embeddings = [F.pad(embedding, (0, max_len_content - embedding.size(-1))) for embedding in content_embeddings]\n",
    "    \n",
    "    # Pad the duration-augmented content embeddings to the maximum length\n",
    "    # padded_duration_augmented_embeddings = [F.pad(embedding, (0, max_len_duration - embedding.size(-1))) for embedding in duration_augmented_content_embeddings]\n",
    "\n",
    "    # Stack the speaker embeddings (assuming they are already of fixed size)\n",
    "    speaker_batch = torch.stack(speaker_embeddings)\n",
    "    # duration_augmented_content_batch = torch.stack(duration_augmented_content_embeddings)\n",
    "    # normalized_pitch_contour_batch = torch.stack(normalized_pitch_contour)\n",
    "    \n",
    "    # Stack the padded embeddings\n",
    "    padded_content_embeddings = torch.stack(padded_content_embeddings)\n",
    "    # f0_tensors_padded = pad_sequence(normalized_pitch_contour, batch_first=True, padding_value=0.0)\n",
    "    # padded_duration_augmented_embeddings = torch.stack(padded_duration_augmented_embeddings)\n",
    "\n",
    "    return padded_content_embeddings, speaker_batch"
   ]
  },
  {
   "cell_type": "code",
   "execution_count": 7,
   "metadata": {},
   "outputs": [],
   "source": [
    "data_path = \"/home/keagan/Documents/projects/SelfVC/data/val_manifest.json\"\n",
    "with open(data_path, 'r') as file:\n",
    "    data = json.load(file)\n",
    "\n"
   ]
  },
  {
   "cell_type": "code",
   "execution_count": 9,
   "metadata": {},
   "outputs": [],
   "source": [
    "class ConformerEncoder256(nn.Module):\n",
    "    def __init__(self, original_encoder):\n",
    "        super(ConformerEncoder256, self).__init__()\n",
    "        self.encoder = original_encoder\n",
    "        # Add a 1D convolution with stride to downsample to 256\n",
    "        self.downsample = nn.Conv1d(in_channels=512, out_channels=256, kernel_size=1, stride=2) # Example\n",
    "\n",
    "    def forward(self, audio_signal, length):\n",
    "        # Pass through original encoder\n",
    "        embeddings, lengths = self.encoder(audio_signal=audio_signal, length=length)\n",
    "        # Reduce the embedding size\n",
    "        embeddings = self.downsample(embeddings)\n",
    "        return embeddings, lengths"
   ]
  },
  {
   "cell_type": "code",
   "execution_count": 10,
   "metadata": {},
   "outputs": [
    {
     "name": "stderr",
     "output_type": "stream",
     "text": [
      "[NeMo W 2024-10-18 12:44:45 nemo_logging:349] /tmp/ipykernel_1166947/3154154602.py:1: FutureWarning: You are using `torch.load` with `weights_only=False` (the current default value), which uses the default pickle module implicitly. It is possible to construct malicious pickle data which will execute arbitrary code during unpickling (See https://github.com/pytorch/pytorch/blob/main/SECURITY.md#untrusted-models for more details). In a future release, the default value for `weights_only` will be flipped to `True`. This limits the functions that could be executed during unpickling. Arbitrary objects will no longer be allowed to be loaded via this mode unless they are explicitly allowlisted by the user via `torch.serialization.add_safe_globals`. We recommend you start setting `weights_only=True` for any use case where you don't have full control of the loaded file. Please open an issue on GitHub for any issues related to this experimental feature.\n",
      "      conformer_encoder_256 = torch.load('/home/keagan/Documents/projects/SelfVC/models/conformer_encoder_v2.pth')\n",
      "    \n"
     ]
    },
    {
     "name": "stdout",
     "output_type": "stream",
     "text": [
      "[NeMo I 2024-10-18 12:44:47 cloud:58] Found existing object /home/keagan/.cache/torch/NeMo/NeMo_1.23.0/titanet-l/11ba0924fdf87c049e339adbf6899d48/titanet-l.nemo.\n",
      "[NeMo I 2024-10-18 12:44:47 cloud:64] Re-using file from: /home/keagan/.cache/torch/NeMo/NeMo_1.23.0/titanet-l/11ba0924fdf87c049e339adbf6899d48/titanet-l.nemo\n",
      "[NeMo I 2024-10-18 12:44:47 common:924] Instantiating model from pre-trained checkpoint\n"
     ]
    },
    {
     "name": "stderr",
     "output_type": "stream",
     "text": [
      "[NeMo W 2024-10-18 12:44:47 modelPT:165] If you intend to do training or fine-tuning, please call the ModelPT.setup_training_data() method and provide a valid configuration file to setup the train data loader.\n",
      "    Train config : \n",
      "    manifest_filepath: /manifests/combined_fisher_swbd_voxceleb12_librispeech/train.json\n",
      "    sample_rate: 16000\n",
      "    labels: null\n",
      "    batch_size: 64\n",
      "    shuffle: true\n",
      "    is_tarred: false\n",
      "    tarred_audio_filepaths: null\n",
      "    tarred_shard_strategy: scatter\n",
      "    augmentor:\n",
      "      noise:\n",
      "        manifest_path: /manifests/noise/rir_noise_manifest.json\n",
      "        prob: 0.5\n",
      "        min_snr_db: 0\n",
      "        max_snr_db: 15\n",
      "      speed:\n",
      "        prob: 0.5\n",
      "        sr: 16000\n",
      "        resample_type: kaiser_fast\n",
      "        min_speed_rate: 0.95\n",
      "        max_speed_rate: 1.05\n",
      "    num_workers: 15\n",
      "    pin_memory: true\n",
      "    \n",
      "[NeMo W 2024-10-18 12:44:47 modelPT:172] If you intend to do validation, please call the ModelPT.setup_validation_data() or ModelPT.setup_multiple_validation_data() method and provide a valid configuration file to setup the validation data loader(s). \n",
      "    Validation config : \n",
      "    manifest_filepath: /manifests/combined_fisher_swbd_voxceleb12_librispeech/dev.json\n",
      "    sample_rate: 16000\n",
      "    labels: null\n",
      "    batch_size: 128\n",
      "    shuffle: false\n",
      "    num_workers: 15\n",
      "    pin_memory: true\n",
      "    \n"
     ]
    },
    {
     "name": "stdout",
     "output_type": "stream",
     "text": [
      "[NeMo I 2024-10-18 12:44:47 features:289] PADDING: 16\n"
     ]
    },
    {
     "name": "stderr",
     "output_type": "stream",
     "text": [
      "[NeMo W 2024-10-18 12:44:47 nemo_logging:349] /home/keagan/anaconda3/envs/vc/lib/python3.10/site-packages/nemo/core/connectors/save_restore_connector.py:571: FutureWarning: You are using `torch.load` with `weights_only=False` (the current default value), which uses the default pickle module implicitly. It is possible to construct malicious pickle data which will execute arbitrary code during unpickling (See https://github.com/pytorch/pytorch/blob/main/SECURITY.md#untrusted-models for more details). In a future release, the default value for `weights_only` will be flipped to `True`. This limits the functions that could be executed during unpickling. Arbitrary objects will no longer be allowed to be loaded via this mode unless they are explicitly allowlisted by the user via `torch.serialization.add_safe_globals`. We recommend you start setting `weights_only=True` for any use case where you don't have full control of the loaded file. Please open an issue on GitHub for any issues related to this experimental feature.\n",
      "      return torch.load(model_weights, map_location='cpu')\n",
      "    \n"
     ]
    },
    {
     "name": "stdout",
     "output_type": "stream",
     "text": [
      "[NeMo I 2024-10-18 12:44:47 save_restore_connector:249] Model EncDecSpeakerLabelModel was successfully restored from /home/keagan/.cache/torch/NeMo/NeMo_1.23.0/titanet-l/11ba0924fdf87c049e339adbf6899d48/titanet-l.nemo.\n"
     ]
    }
   ],
   "source": [
    "conformer_encoder_256 = torch.load('/home/keagan/Documents/projects/SelfVC/models/conformer_encoder_v2.pth')\n",
    "speaker_model = nemo_asr.models.EncDecSpeakerLabelModel.from_pretrained(model_name='titanet_large')"
   ]
  },
  {
   "cell_type": "code",
   "execution_count": null,
   "metadata": {},
   "outputs": [],
   "source": []
  },
  {
   "cell_type": "code",
   "execution_count": 11,
   "metadata": {},
   "outputs": [],
   "source": [
    "device = torch.device('cuda' if torch.cuda.is_available() else 'cpu')\n",
    "dataset = SynthesizerNoTransformDataset(data,conformer_encoder_256,speaker_model,device)"
   ]
  },
  {
   "cell_type": "code",
   "execution_count": 12,
   "metadata": {},
   "outputs": [],
   "source": [
    "batch_size = 4  # Adjust as needed\n",
    "dataloader = DataLoader(dataset, batch_size=batch_size, shuffle=True,collate_fn=collate_fn)"
   ]
  },
  {
   "cell_type": "code",
   "execution_count": 13,
   "metadata": {},
   "outputs": [
    {
     "name": "stdout",
     "output_type": "stream",
     "text": [
      "/home/keagan/Documents/projects/SelfVC/data/audios/7484_39971_000015_000000.wav\n"
     ]
    },
    {
     "name": "stderr",
     "output_type": "stream",
     "text": [
      "[NeMo W 2024-10-18 12:44:52 nemo_logging:349] /home/keagan/anaconda3/envs/vc/lib/python3.10/site-packages/nemo/collections/asr/parts/preprocessing/features.py:417: FutureWarning: `torch.cuda.amp.autocast(args...)` is deprecated. Please use `torch.amp.autocast('cuda', args...)` instead.\n",
      "      with torch.cuda.amp.autocast(enabled=False):\n",
      "    \n",
      "[NeMo W 2024-10-18 12:44:52 nemo_logging:349] /home/keagan/anaconda3/envs/vc/lib/python3.10/site-packages/nemo/collections/asr/parts/submodules/jasper.py:476: FutureWarning: `torch.cuda.amp.autocast(args...)` is deprecated. Please use `torch.amp.autocast('cuda', args...)` instead.\n",
      "      with torch.cuda.amp.autocast(enabled=False):\n",
      "    \n"
     ]
    },
    {
     "name": "stdout",
     "output_type": "stream",
     "text": [
      "Reached herte amin\n"
     ]
    },
    {
     "name": "stderr",
     "output_type": "stream",
     "text": [
      "[NeMo W 2024-10-18 12:44:53 nemo_logging:349] /home/keagan/anaconda3/envs/vc/lib/python3.10/site-packages/nemo/collections/asr/parts/preprocessing/features.py:417: FutureWarning: `torch.cuda.amp.autocast(args...)` is deprecated. Please use `torch.amp.autocast('cuda', args...)` instead.\n",
      "      with torch.cuda.amp.autocast(enabled=False):\n",
      "    \n",
      "[NeMo W 2024-10-18 12:44:53 nemo_logging:349] /home/keagan/anaconda3/envs/vc/lib/python3.10/site-packages/nemo/collections/asr/parts/submodules/jasper.py:476: FutureWarning: `torch.cuda.amp.autocast(args...)` is deprecated. Please use `torch.amp.autocast('cuda', args...)` instead.\n",
      "      with torch.cuda.amp.autocast(enabled=False):\n",
      "    \n"
     ]
    },
    {
     "name": "stdout",
     "output_type": "stream",
     "text": [
      "torch.Size([127])\n",
      "/home/keagan/Documents/projects/SelfVC/data/audios/5012_31097_000008_000001.wav\n",
      "Reached herte amin\n",
      "torch.Size([603])\n",
      "/home/keagan/Documents/projects/SelfVC/data/audios/56_1733_000012_000001.wav\n",
      "Reached herte amin\n",
      "torch.Size([72])\n",
      "/home/keagan/Documents/projects/SelfVC/data/audios/666_11243_000007_000003.wav\n",
      "Reached herte amin\n",
      "torch.Size([446])\n"
     ]
    },
    {
     "ename": "RuntimeError",
     "evalue": "stack expects each tensor to be equal size, but got [127] at entry 0 and [603] at entry 1",
     "output_type": "error",
     "traceback": [
      "\u001b[0;31m---------------------------------------------------------------------------\u001b[0m",
      "\u001b[0;31mRuntimeError\u001b[0m                              Traceback (most recent call last)",
      "Cell \u001b[0;32mIn[13], line 1\u001b[0m\n\u001b[0;32m----> 1\u001b[0m \u001b[38;5;28;01mfor\u001b[39;00m i, (content_embeddings,speaker_embeddings,duration_augmented_content_embeddings,normalized_pitch_contour) \u001b[38;5;129;01min\u001b[39;00m \u001b[38;5;28menumerate\u001b[39m(dataloader):\n\u001b[1;32m      2\u001b[0m     \u001b[38;5;66;03m# duration_augmented_content_embeddings\u001b[39;00m\n\u001b[1;32m      3\u001b[0m     \u001b[38;5;66;03m# normalized_pitch_contour\u001b[39;00m\n\u001b[1;32m      4\u001b[0m     \u001b[38;5;28mprint\u001b[39m(\u001b[38;5;124mf\u001b[39m\u001b[38;5;124m\"\u001b[39m\u001b[38;5;124mBatch \u001b[39m\u001b[38;5;132;01m{\u001b[39;00mi\u001b[38;5;241m+\u001b[39m\u001b[38;5;241m1\u001b[39m\u001b[38;5;132;01m}\u001b[39;00m\u001b[38;5;124m:\u001b[39m\u001b[38;5;124m\"\u001b[39m)\n\u001b[1;32m      5\u001b[0m     \u001b[38;5;28mprint\u001b[39m(\u001b[38;5;124mf\u001b[39m\u001b[38;5;124m\"\u001b[39m\u001b[38;5;124mcontent_embeddings Shape: \u001b[39m\u001b[38;5;132;01m{\u001b[39;00mcontent_embeddings\u001b[38;5;241m.\u001b[39mshape\u001b[38;5;132;01m}\u001b[39;00m\u001b[38;5;124m\"\u001b[39m)\n",
      "File \u001b[0;32m~/anaconda3/envs/vc/lib/python3.10/site-packages/torch/utils/data/dataloader.py:630\u001b[0m, in \u001b[0;36m_BaseDataLoaderIter.__next__\u001b[0;34m(self)\u001b[0m\n\u001b[1;32m    627\u001b[0m \u001b[38;5;28;01mif\u001b[39;00m \u001b[38;5;28mself\u001b[39m\u001b[38;5;241m.\u001b[39m_sampler_iter \u001b[38;5;129;01mis\u001b[39;00m \u001b[38;5;28;01mNone\u001b[39;00m:\n\u001b[1;32m    628\u001b[0m     \u001b[38;5;66;03m# TODO(https://github.com/pytorch/pytorch/issues/76750)\u001b[39;00m\n\u001b[1;32m    629\u001b[0m     \u001b[38;5;28mself\u001b[39m\u001b[38;5;241m.\u001b[39m_reset()  \u001b[38;5;66;03m# type: ignore[call-arg]\u001b[39;00m\n\u001b[0;32m--> 630\u001b[0m data \u001b[38;5;241m=\u001b[39m \u001b[38;5;28;43mself\u001b[39;49m\u001b[38;5;241;43m.\u001b[39;49m\u001b[43m_next_data\u001b[49m\u001b[43m(\u001b[49m\u001b[43m)\u001b[49m\n\u001b[1;32m    631\u001b[0m \u001b[38;5;28mself\u001b[39m\u001b[38;5;241m.\u001b[39m_num_yielded \u001b[38;5;241m+\u001b[39m\u001b[38;5;241m=\u001b[39m \u001b[38;5;241m1\u001b[39m\n\u001b[1;32m    632\u001b[0m \u001b[38;5;28;01mif\u001b[39;00m \u001b[38;5;28mself\u001b[39m\u001b[38;5;241m.\u001b[39m_dataset_kind \u001b[38;5;241m==\u001b[39m _DatasetKind\u001b[38;5;241m.\u001b[39mIterable \u001b[38;5;129;01mand\u001b[39;00m \\\n\u001b[1;32m    633\u001b[0m         \u001b[38;5;28mself\u001b[39m\u001b[38;5;241m.\u001b[39m_IterableDataset_len_called \u001b[38;5;129;01mis\u001b[39;00m \u001b[38;5;129;01mnot\u001b[39;00m \u001b[38;5;28;01mNone\u001b[39;00m \u001b[38;5;129;01mand\u001b[39;00m \\\n\u001b[1;32m    634\u001b[0m         \u001b[38;5;28mself\u001b[39m\u001b[38;5;241m.\u001b[39m_num_yielded \u001b[38;5;241m>\u001b[39m \u001b[38;5;28mself\u001b[39m\u001b[38;5;241m.\u001b[39m_IterableDataset_len_called:\n",
      "File \u001b[0;32m~/anaconda3/envs/vc/lib/python3.10/site-packages/torch/utils/data/dataloader.py:673\u001b[0m, in \u001b[0;36m_SingleProcessDataLoaderIter._next_data\u001b[0;34m(self)\u001b[0m\n\u001b[1;32m    671\u001b[0m \u001b[38;5;28;01mdef\u001b[39;00m \u001b[38;5;21m_next_data\u001b[39m(\u001b[38;5;28mself\u001b[39m):\n\u001b[1;32m    672\u001b[0m     index \u001b[38;5;241m=\u001b[39m \u001b[38;5;28mself\u001b[39m\u001b[38;5;241m.\u001b[39m_next_index()  \u001b[38;5;66;03m# may raise StopIteration\u001b[39;00m\n\u001b[0;32m--> 673\u001b[0m     data \u001b[38;5;241m=\u001b[39m \u001b[38;5;28;43mself\u001b[39;49m\u001b[38;5;241;43m.\u001b[39;49m\u001b[43m_dataset_fetcher\u001b[49m\u001b[38;5;241;43m.\u001b[39;49m\u001b[43mfetch\u001b[49m\u001b[43m(\u001b[49m\u001b[43mindex\u001b[49m\u001b[43m)\u001b[49m  \u001b[38;5;66;03m# may raise StopIteration\u001b[39;00m\n\u001b[1;32m    674\u001b[0m     \u001b[38;5;28;01mif\u001b[39;00m \u001b[38;5;28mself\u001b[39m\u001b[38;5;241m.\u001b[39m_pin_memory:\n\u001b[1;32m    675\u001b[0m         data \u001b[38;5;241m=\u001b[39m _utils\u001b[38;5;241m.\u001b[39mpin_memory\u001b[38;5;241m.\u001b[39mpin_memory(data, \u001b[38;5;28mself\u001b[39m\u001b[38;5;241m.\u001b[39m_pin_memory_device)\n",
      "File \u001b[0;32m~/anaconda3/envs/vc/lib/python3.10/site-packages/torch/utils/data/_utils/fetch.py:55\u001b[0m, in \u001b[0;36m_MapDatasetFetcher.fetch\u001b[0;34m(self, possibly_batched_index)\u001b[0m\n\u001b[1;32m     53\u001b[0m \u001b[38;5;28;01melse\u001b[39;00m:\n\u001b[1;32m     54\u001b[0m     data \u001b[38;5;241m=\u001b[39m \u001b[38;5;28mself\u001b[39m\u001b[38;5;241m.\u001b[39mdataset[possibly_batched_index]\n\u001b[0;32m---> 55\u001b[0m \u001b[38;5;28;01mreturn\u001b[39;00m \u001b[38;5;28;43mself\u001b[39;49m\u001b[38;5;241;43m.\u001b[39;49m\u001b[43mcollate_fn\u001b[49m\u001b[43m(\u001b[49m\u001b[43mdata\u001b[49m\u001b[43m)\u001b[49m\n",
      "Cell \u001b[0;32mIn[6], line 29\u001b[0m, in \u001b[0;36mcollate_fn\u001b[0;34m(batch)\u001b[0m\n\u001b[1;32m     27\u001b[0m speaker_batch \u001b[38;5;241m=\u001b[39m torch\u001b[38;5;241m.\u001b[39mstack(speaker_embeddings)\n\u001b[1;32m     28\u001b[0m duration_augmented_content_batch \u001b[38;5;241m=\u001b[39m torch\u001b[38;5;241m.\u001b[39mstack(duration_augmented_content_embeddings)\n\u001b[0;32m---> 29\u001b[0m normalized_pitch_contour_batch \u001b[38;5;241m=\u001b[39m \u001b[43mtorch\u001b[49m\u001b[38;5;241;43m.\u001b[39;49m\u001b[43mstack\u001b[49m\u001b[43m(\u001b[49m\u001b[43mnormalized_pitch_contour\u001b[49m\u001b[43m)\u001b[49m\n\u001b[1;32m     31\u001b[0m \u001b[38;5;66;03m# Stack the padded embeddings\u001b[39;00m\n\u001b[1;32m     32\u001b[0m padded_content_embeddings \u001b[38;5;241m=\u001b[39m torch\u001b[38;5;241m.\u001b[39mstack(padded_content_embeddings)\n",
      "\u001b[0;31mRuntimeError\u001b[0m: stack expects each tensor to be equal size, but got [127] at entry 0 and [603] at entry 1"
     ]
    }
   ],
   "source": [
    "for i, (content_embeddings,speaker_embeddings,duration_augmented_content_embeddings,normalized_pitch_contour) in enumerate(dataloader):\n",
    "    # duration_augmented_content_embeddings\n",
    "    # normalized_pitch_contour\n",
    "    print(f\"Batch {i+1}:\")\n",
    "    print(f\"content_embeddings Shape: {content_embeddings.shape}\")\n",
    "    print(f\"speaker_embeddings Shape: {speaker_embeddings.shape}\")\n",
    "    print(f\"duration_augmented_content_embeddings Shape: {duration_augmented_content_embeddings.shape}\")\n",
    "    print(f\"normalized_pitch_contour Shape: {normalized_pitch_contour.shape}\")\n",
    "    # Optionally, break after first batch for testing\n",
    "    if i == 0:\n",
    "        break"
   ]
  },
  {
   "cell_type": "code",
   "execution_count": 100,
   "metadata": {},
   "outputs": [
    {
     "name": "stdout",
     "output_type": "stream",
     "text": [
      "reahced here\n",
      "reahced here 1\n"
     ]
    }
   ],
   "source": [
    "f0_tensor = extract_f0(\"/home/keagan/Documents/projects/SelfVC/data/audios/4957_36386_000058_000002.wav\", sr=22050)"
   ]
  },
  {
   "cell_type": "code",
   "execution_count": 101,
   "metadata": {},
   "outputs": [
    {
     "data": {
      "text/plain": [
       "tensor([  0.0000,   0.0000,   0.0000,   0.0000,   0.0000, 174.6141, 169.6432,\n",
       "        167.6947, 165.7685, 161.0494, 158.2827, 169.6432, 220.0000, 245.5194,\n",
       "        261.6256, 278.7883, 285.3047, 283.6615, 257.1310, 216.2205, 258.6205,\n",
       "        245.5194, 233.0819, 223.8455, 220.0000, 220.0000, 222.5563, 225.1423,\n",
       "        248.3722, 246.9417, 248.3722, 252.7136, 260.1187, 264.6655, 260.1187,\n",
       "          0.0000,   0.0000, 220.0000, 211.2820, 204.0850, 194.8689, 190.4180,\n",
       "        191.5211, 197.1331, 197.1331, 186.0689, 211.2820, 210.0652, 204.0850,\n",
       "        202.9096, 202.9096, 207.6523, 207.6523,   0.0000,   0.0000, 248.3722,\n",
       "        249.8110, 252.7136, 261.6256, 269.2918, 277.1826, 283.6615,   0.0000,\n",
       "          0.0000,   0.0000,   0.0000,   0.0000,   0.0000,   0.0000,   0.0000,\n",
       "          0.0000,   0.0000,   0.0000,   0.0000,   0.0000,   0.0000,   0.0000,\n",
       "          0.0000,   0.0000,   0.0000,   0.0000,   0.0000,   0.0000,   0.0000,\n",
       "          0.0000,   0.0000,   0.0000,   0.0000,   0.0000,   0.0000,   0.0000,\n",
       "          0.0000, 208.8553, 231.7394, 249.8110, 261.6256, 264.6655, 266.1987,\n",
       "        267.7408,   0.0000,   0.0000, 239.9117, 223.8455, 213.7370, 210.0652,\n",
       "        204.0850, 182.8723, 178.6955, 170.6259, 157.3710, 144.3099,   0.0000,\n",
       "          0.0000,   0.0000,   0.0000,   0.0000,   0.0000,   0.0000,   0.0000])"
      ]
     },
     "execution_count": 101,
     "metadata": {},
     "output_type": "execute_result"
    }
   ],
   "source": [
    "f0_tensor"
   ]
  },
  {
   "cell_type": "code",
   "execution_count": 97,
   "metadata": {},
   "outputs": [],
   "source": [
    "def normalize_f0(audio_path, sr=22050):\n",
    "    \"\"\"\n",
    "    Normalize the F0 contour.\n",
    "    \n",
    "    Args:\n",
    "    - f0_tensor (torch.Tensor): F0 contour as a PyTorch tensor.\n",
    "    \n",
    "    Returns:\n",
    "    - normalized_f0 (torch.Tensor): Normalized F0 contour.\n",
    "    \"\"\"\n",
    "    f0_tensor = extract_f0(audio_path, sr=22050)\n",
    "    # Filter out unvoiced (NaN or 0 values)\n",
    "    # voiced_f0 = f0_tensor[f0_tensor > 0]  # Exclude unvoiced frames\n",
    "    \n",
    "    # Compute mean and standard deviation only for voiced frames\n",
    "    mean_f0 = f0_tensor.mean()\n",
    "    std_f0 = f0_tensor.std()\n",
    "    \n",
    "    # Normalize F0 contour (keep NaNs for unvoiced frames)\n",
    "    normalized_f0 = (f0_tensor - mean_f0) / std_f0\n",
    "\n",
    "    return normalized_f0     "
   ]
  },
  {
   "cell_type": "code",
   "execution_count": 99,
   "metadata": {},
   "outputs": [
    {
     "name": "stdout",
     "output_type": "stream",
     "text": [
      "reahced here\n",
      "reahced here 1\n"
     ]
    }
   ],
   "source": [
    "f0_tensor_norm = normalize_f0(\"/home/keagan/Documents/projects/SelfVC/data/audios/4957_36386_000058_000002.wav\", sr=22050)"
   ]
  },
  {
   "cell_type": "code",
   "execution_count": 102,
   "metadata": {},
   "outputs": [
    {
     "data": {
      "text/plain": [
       "tensor([-1.1538, -1.1538, -1.1538, -1.1538, -1.1538,  0.3828,  0.3390,  0.3219,\n",
       "         0.3049,  0.2634,  0.2391,  0.3390,  0.7822,  1.0067,  1.1485,  1.2995,\n",
       "         1.3568,  1.3424,  1.1089,  0.7489,  1.1220,  1.0067,  0.8973,  0.8160,\n",
       "         0.7822,  0.7822,  0.8047,  0.8274,  1.0318,  1.0193,  1.0318,  1.0700,\n",
       "         1.1352,  1.1752,  1.1352, -1.1538, -1.1538,  0.7822,  0.7055,  0.6421,\n",
       "         0.5610,  0.5218,  0.5316,  0.5809,  0.5809,  0.4836,  0.7055,  0.6947,\n",
       "         0.6421,  0.6318,  0.6318,  0.6735,  0.6735, -1.1538, -1.1538,  1.0318,\n",
       "         1.0445,  1.0700,  1.1485,  1.2159,  1.2854,  1.3424, -1.1538, -1.1538,\n",
       "        -1.1538, -1.1538, -1.1538, -1.1538, -1.1538, -1.1538, -1.1538, -1.1538,\n",
       "        -1.1538, -1.1538, -1.1538, -1.1538, -1.1538, -1.1538, -1.1538, -1.1538,\n",
       "        -1.1538, -1.1538, -1.1538, -1.1538, -1.1538, -1.1538, -1.1538, -1.1538,\n",
       "        -1.1538, -1.1538, -1.1538, -1.1538,  0.6841,  0.8855,  1.0445,  1.1485,\n",
       "         1.1752,  1.1887,  1.2023, -1.1538, -1.1538,  0.9574,  0.8160,  0.7271,\n",
       "         0.6947,  0.6421,  0.4554,  0.4187,  0.3477,  0.2310,  0.1161, -1.1538,\n",
       "        -1.1538, -1.1538, -1.1538, -1.1538, -1.1538, -1.1538, -1.1538])"
      ]
     },
     "execution_count": 102,
     "metadata": {},
     "output_type": "execute_result"
    }
   ],
   "source": [
    "f0_tensor_norm"
   ]
  }
 ],
 "metadata": {
  "kernelspec": {
   "display_name": "vc",
   "language": "python",
   "name": "python3"
  },
  "language_info": {
   "codemirror_mode": {
    "name": "ipython",
    "version": 3
   },
   "file_extension": ".py",
   "mimetype": "text/x-python",
   "name": "python",
   "nbconvert_exporter": "python",
   "pygments_lexer": "ipython3",
   "version": "3.10.15"
  }
 },
 "nbformat": 4,
 "nbformat_minor": 2
}
